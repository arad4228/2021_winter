{
 "cells": [
  {
   "cell_type": "markdown",
   "metadata": {},
   "source": [
    "# Data Analysis\n",
    "\n",
    "This notebook provides code to visualise and analyze data collected using sensors deployed during the Indaba 2019 maker session\n",
    "\n",
    "We have deployed the following sensors\n",
    "1. Ambient Temperature\n",
    "1. Relative Humidity\n",
    "1. Soil Moisture Sensor\n",
    "\n",
    "\n",
    "The sensors are connected to a [Nucleo F446re](https://os.mbed.com/platforms/ST-Nucleo-F446RE/) development board running code contained in this [repo](https://github.com/ciiram/indaba-maker-session-2019).\n",
    "\n",
    "The data collected from the sensors has been stored on an InfluxDB on your machine. We will connect to this DB and visualise the data. We will use Gaussian processes to interpolate missing values and make predictions from a dataset collected earlier at the Dedan Kimathi University of Technology coffee farm.\n",
    "\n",
    "## Requirements\n",
    "\n",
    "1. [pandas](https://pandas.pydata.org/)\n",
    "1. [matplotlib](https://matplotlib.org/)\n",
    "1. [GPy](https://sheffieldml.github.io/GPy/) \n",
    "1. [influxdb](https://www.influxdata.com/blog/getting-started-python-influxdb/)"
   ]
  },
  {
   "cell_type": "code",
   "execution_count": null,
   "metadata": {},
   "outputs": [],
   "source": [
    "%matplotlib inline\n",
    "import pandas as pd\n",
    "import matplotlib.pyplot as plt\n",
    "\n",
    "from pandas import DataFrame, Series\n",
    "from pandas.io.json import json_normalize\n",
    "\n",
    "from influxdb import InfluxDBClient\n",
    "from datetime import datetime, timedelta"
   ]
  },
  {
   "cell_type": "markdown",
   "metadata": {},
   "source": [
    "## Plots of Ambient Temperature \n",
    "\n",
    "We will examine plots of ambient temperature recorded by our device. First we connect to our database to access the data stored."
   ]
  },
  {
   "cell_type": "code",
   "execution_count": null,
   "metadata": {},
   "outputs": [],
   "source": [
    "client = InfluxDBClient(host='localhost', port=8086)\n",
    "client.switch_database('indaba_session')"
   ]
  },
  {
   "cell_type": "markdown",
   "metadata": {},
   "source": [
    "Let us try a few queries"
   ]
  },
  {
   "cell_type": "code",
   "execution_count": null,
   "metadata": {},
   "outputs": [],
   "source": [
    "# Get the last entry\n",
    "\n",
    "result = client.query('select last(\"Temperature\") from \"Indaba Session\"')\n",
    "print(result.raw)"
   ]
  },
  {
   "cell_type": "code",
   "execution_count": null,
   "metadata": {},
   "outputs": [],
   "source": [
    "# Get the entries from the last hour\n",
    "result = client.query('select * from \"Indaba Session\" where time > now() - 1h')\n",
    "print(result.raw)"
   ]
  },
  {
   "cell_type": "code",
   "execution_count": null,
   "metadata": {},
   "outputs": [],
   "source": [
    "result_list = list(result.get_points())\n",
    "\n",
    "# turn to pandas dataframe\n",
    "df = pd.DataFrame(result_list)\n",
    "\n",
    "# make time a datetime object\n",
    "df[['time']] = df[['time']].apply(pd.to_datetime)"
   ]
  },
  {
   "cell_type": "code",
   "execution_count": null,
   "metadata": {
    "scrolled": true
   },
   "outputs": [],
   "source": [
    "# Change the Key According to the parameters you measured\n",
    "%matplotlib inline\n",
    "plt.figure()\n",
    "plt.plot(df['time'] + timedelta(hours=3), df['Temperature'], 'bo');\n",
    "plt.xticks(rotation=45);\n",
    "plt.ylim([0, 40]);\n",
    "plt.xlabel('Time');\n",
    "plt.ylabel('Ambient Temperature (Celcius)');"
   ]
  },
  {
   "cell_type": "markdown",
   "metadata": {},
   "source": [
    "## Extract and Plot Your Sensor Data"
   ]
  },
  {
   "cell_type": "code",
   "execution_count": null,
   "metadata": {},
   "outputs": [],
   "source": [
    "my_sensor = 'dev_01' # change to your sensor\n",
    "\n",
    "sensor_groups = df.groupby('sensor')\n",
    "\n",
    "for name, grp in sensor_groups:\n",
    "    if name == my_sensor:\n",
    "        plt.figure()\n",
    "        plt.plot(grp.time, grp.Temperature, 'bo')\n",
    "        plt.legend(['Ambient Temperature']);\n",
    "        plt.xticks(rotation=45);\n",
    "        plt.ylim([0, 50]);\n",
    "        plt.xlabel('Time');\n",
    "        plt.ylabel('Temperature (Celcius)');\n",
    "        plt.tight_layout()\n",
    "\n"
   ]
  },
  {
   "cell_type": "code",
   "execution_count": null,
   "metadata": {},
   "outputs": [],
   "source": [
    "# You can write code here to plot other variables\n",
    "type(grp.time[0])"
   ]
  },
  {
   "cell_type": "markdown",
   "metadata": {},
   "source": [
    "## Modelling\n",
    "\n",
    "We will experiment with interpolation using Gaussian process models with various kernels and assess the fits. We will work with the temperature data collected from the coffee farm at Dedan Kimathi University of Technology in September 2018. You can then use the data you collect from your sensors once you have enough data."
   ]
  },
  {
   "cell_type": "code",
   "execution_count": null,
   "metadata": {},
   "outputs": [],
   "source": [
    "# load the data\n",
    "ambient_temperature_df = pd.read_csv('data/coffee_farm_temp.csv')\n",
    "ambient_temperature_df[['Time']] = ambient_temperature_df[['Time']].apply(pd.to_datetime)\n",
    "\n",
    "# plot it\n",
    "plt.figure()\n",
    "plt.plot(ambient_temperature_df['Time'], ambient_temperature_df['Temperature'],'bo')\n",
    "plt.legend(['Ambient Temperature']);\n",
    "plt.xticks(rotation=45);\n",
    "plt.ylim([0, 35]);\n",
    "plt.xlabel('Time');\n",
    "plt.ylabel('Temperature (Celcius)');\n",
    "plt.tight_layout()\n"
   ]
  },
  {
   "cell_type": "markdown",
   "metadata": {},
   "source": [
    "## Estimating Missing Values\n",
    "On the 14th of September, the sensor was down. However we can use Gaussian processes to estimate the temperature on this day. We will use GPy."
   ]
  },
  {
   "cell_type": "code",
   "execution_count": null,
   "metadata": {},
   "outputs": [],
   "source": [
    "import GPy\n",
    "import numpy as np\n",
    "from IPython.display import display\n",
    "\n",
    "#get the temperature and time\n",
    "temperature = ambient_temperature_df['Temperature']\n",
    "time_day = [value.timestamp() for value in ambient_temperature_df['Time']] # get the timestamps\n",
    "time_day = np.array(time_day)\n",
    "\n",
    "#normalize to days\n",
    "time_day = time_day - min(time_day)\n",
    "time_day /= (24 * 60 * 60)\n",
    "\n",
    "# get the first 7 days\n",
    "temperature = temperature[time_day < 7]\n",
    "time_day = time_day[time_day < 7]\n"
   ]
  },
  {
   "cell_type": "markdown",
   "metadata": {},
   "source": [
    "We visualise the data"
   ]
  },
  {
   "cell_type": "code",
   "execution_count": null,
   "metadata": {},
   "outputs": [],
   "source": [
    "plt.figure()\n",
    "plt.plot(time_day, temperature, 'bo')\n",
    "plt.ylim([0, 35])\n",
    "plt.xlabel('Time (days)');\n",
    "plt.ylabel('Temperature (Celcius)');"
   ]
  },
  {
   "cell_type": "markdown",
   "metadata": {},
   "source": [
    "We fit a Gaussian process with a radial basis function kernel. (If the optimization fails, simply restart it.)"
   ]
  },
  {
   "cell_type": "code",
   "execution_count": null,
   "metadata": {},
   "outputs": [],
   "source": [
    "#RBF Kernel\n",
    "kernel = GPy.kern.RBF(input_dim=1, variance=1., lengthscale=1.)\n",
    "m = GPy.models.GPRegression(time_day[:, None],temperature[:, None],kernel)\n",
    "m.optimize_restarts(num_restarts = 10)\n",
    "display(m)"
   ]
  },
  {
   "cell_type": "markdown",
   "metadata": {},
   "source": [
    "Let's plot the fit"
   ]
  },
  {
   "cell_type": "code",
   "execution_count": null,
   "metadata": {},
   "outputs": [],
   "source": [
    "plt.figure()\n",
    "m.plot();\n",
    "plt.ylim([-30, 50]);\n",
    "plt.xlabel('Time (days)');\n",
    "plt.ylabel('Temperature (Celcius)');"
   ]
  },
  {
   "cell_type": "markdown",
   "metadata": {},
   "source": [
    "The fit with the RBF kernel does not do a good job of filling in the missing data. In the region without data, the posterior fit is similar to the prior which results in the interpolant passing through zero. \n",
    "\n",
    "It is never that cold in Nyeri!!\n",
    "\n",
    "We now try a periodic kernel on the same data which takes into account the observation that temperature variations are periodic. (If the optimization fails, simply restart it.)"
   ]
  },
  {
   "cell_type": "code",
   "execution_count": null,
   "metadata": {},
   "outputs": [],
   "source": [
    "periodic_kernel = GPy.kern.PeriodicMatern32(input_dim=1, variance=1., lengthscale=1., period=1.)\n",
    "m = GPy.models.GPRegression(time_day[:, None],temperature[:, None], periodic_kernel)\n",
    "m.optimize_restarts(num_restarts = 10)"
   ]
  },
  {
   "cell_type": "code",
   "execution_count": null,
   "metadata": {},
   "outputs": [],
   "source": [
    "plt.figure()\n",
    "m.plot();\n",
    "plt.ylim([-30, 50]);\n",
    "plt.xlabel('Time (days)');\n",
    "plt.ylabel('Temperature (Celcius)');"
   ]
  },
  {
   "cell_type": "markdown",
   "metadata": {},
   "source": [
    "The fit is still not good. The prior with a zero mean does not fit the data.\n",
    "We need to add bias. (If the optimization fails, simply restart it.)\n",
    "\n"
   ]
  },
  {
   "cell_type": "code",
   "execution_count": null,
   "metadata": {},
   "outputs": [],
   "source": [
    "periodic_kernel = GPy.kern.PeriodicMatern32(input_dim=1, variance=1., lengthscale=1., period=1.)\n",
    "kernel_bias = GPy.kern.Bias(1)\n",
    "\n",
    "m = GPy.models.GPRegression(time_day[:, None],temperature[:, None], periodic_kernel + kernel_bias)\n",
    "m.optimize_restarts(num_restarts = 20)\n",
    "\n",
    "# plot the fit\n",
    "plt.figure()\n",
    "m.plot();\n",
    "plt.ylim([0, 40]);\n",
    "plt.xlabel('Time (days)');\n",
    "plt.ylabel('Temperature (Celcius)');"
   ]
  },
  {
   "cell_type": "markdown",
   "metadata": {},
   "source": [
    "This is a much better fit and the predicted values in the region with missing data is quite reasonable.\n"
   ]
  },
  {
   "cell_type": "code",
   "execution_count": null,
   "metadata": {},
   "outputs": [],
   "source": []
  }
 ],
 "metadata": {
  "kernelspec": {
   "display_name": "Python 3",
   "language": "python",
   "name": "python3"
  },
  "language_info": {
   "codemirror_mode": {
    "name": "ipython",
    "version": 3
   },
   "file_extension": ".py",
   "mimetype": "text/x-python",
   "name": "python",
   "nbconvert_exporter": "python",
   "pygments_lexer": "ipython3",
   "version": "3.8.8"
  }
 },
 "nbformat": 4,
 "nbformat_minor": 2
}
